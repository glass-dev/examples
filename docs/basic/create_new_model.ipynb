{
  "cells": [
    {
      "cell_type": "code",
      "execution_count": null,
      "metadata": {
        "collapsed": false
      },
      "outputs": [],
      "source": [
        "%matplotlib inline"
      ]
    },
    {
      "cell_type": "markdown",
      "metadata": {},
      "source": [
        "\n# Creating a new model\n\nThis example shows how to implement and use a new model.\n"
      ]
    },
    {
      "cell_type": "markdown",
      "metadata": {},
      "source": [
        "## Setup\nThe setup here is the same as in the :doc:`/basic/plot_density` example,\nexcept that we use fewer galaxies and only a single matter shell.\n\n"
      ]
    },
    {
      "cell_type": "code",
      "execution_count": null,
      "metadata": {
        "collapsed": false
      },
      "outputs": [],
      "source": [
        "import numpy as np\nimport healpy as hp\nimport matplotlib.pyplot as plt\n\n# import everything in the glass namespace\nimport glass.all\nimport glass\n\n# also needs camb itself to get the parameter object\nimport camb\n\n# decorator for GLASS generators\nfrom glass.generator import generator\n\n# import some variable names from other GLASS modules\n# you do not have to do this, you can use their string values themselves\n# but we generally do this to make life easier and prevent mistakes\nfrom glass.matter import DELTA\nfrom glass.galaxies import GAL_LON, GAL_LAT\n\n\n# load the precomputed shell definition\nshells, mweights, cls, lweights = glass.user.load_shells('shells.npz')\n\n# basic parameters of the simulation\nnside = 128\nlmax = nside\n\n# galaxy density\nn_arcmin2 = 1e-6\n\n# compute constant galaxy densities in shells\ndensities = glass.galaxies.constant_densities(n_arcmin2, shells)\n\n# generators for a galaxies-only simulation with one correlated shell\ngenerators = [\n    glass.matter.gen_lognormal_matter(cls, nside, ncorr=1),\n    glass.galaxies.gen_uniform_positions(densities),\n]"
      ]
    },
    {
      "cell_type": "markdown",
      "metadata": {},
      "source": [
        "## Model\nWe will now add a custom model that returns a flag to indicate whether a\ngalaxy is found in a matter overdensity or underdensity.\n\nThe new model is prototypical of \"inputs to outputs\" models in GLASS.  Like\nall GLASS models, it is implemented as a simple Python generator.  The model\ncan take global parameters, here a ``thresh`` value for the threshold at\nwhich matter is considered overdense.  The generator then runs in a loop: At\neach iteration of the simulation, it receives the matter density ``DELTA``\nand galaxy positions ``GAL_LON``, ``GAL_LAT``.  It then yields the newly\ncomputed overdensity flag ``GAL_OD_FLAG`` provided by the model.\n\n"
      ]
    },
    {
      "cell_type": "code",
      "execution_count": null,
      "metadata": {
        "collapsed": false
      },
      "outputs": [],
      "source": [
        "# define a new variable for this example\n# you could also just pass the string value, but we usually define these\nGAL_OD_FLAG = 'galaxy overdensity flags'\n\n\n# the decorator labels the inputs and outputs of this generator\n# here we use the imported variable names from the GLASS modules\n# but you could also provide their string values\n@generator(\n    receives=(DELTA, GAL_LON, GAL_LAT),\n    yields=GAL_OD_FLAG)\ndef gal_od_flag_model(thresh=0.):\n\n    # it's possible to pre-process before the iteration starts\n    print('initialising our model')\n\n    # this try .. except GeneratorExit statement contains the simulation loop\n    try:\n        # initial yield receives the first batch of values\n        delta, lon, lat = yield\n\n        # the main processing loop\n        while True:\n            # perform the computation for this iteration\n            # get the HEALPix pixel index of the galaxies\n            # set the flag if overdensity is above threshold\n            nside = hp.get_nside(delta)\n            ipix = hp.ang2pix(nside, lon, lat, lonlat=True)\n            od = delta[ipix]\n            od_flag = (od > thresh)\n\n            # yield the result and receive new inputs\n            delta, lon, lat = yield od_flag\n\n    except GeneratorExit:\n        # we are being told to stop processing\n        print('stop processing inputs')\n\n    # it's possible to post-process after the iteration stops\n    print('finalising our model')\n\n\n# add our new model to the generators used in the simulation\ngenerators.append(gal_od_flag_model(thresh=0.01))"
      ]
    },
    {
      "cell_type": "markdown",
      "metadata": {},
      "source": [
        "## Simulation\nRun the simulation.  We will keep track of galaxy positions and their\noverdensity flags returned by our model.\n\n"
      ]
    },
    {
      "cell_type": "code",
      "execution_count": null,
      "metadata": {
        "collapsed": false
      },
      "outputs": [],
      "source": [
        "# keep lists of positions and the overdensity flags\nlon, lat, od_flag = np.empty(0), np.empty(0), np.empty(0, dtype=bool)\n\n# outputs we want from the simulation\nyields = [GAL_LON, GAL_LAT, GAL_OD_FLAG]\n\n# simulate and add galaxies in each iteration to lists\nfor lon_i, lat_i, od_flag_i in glass.core.generate(generators, yields):\n    lon = np.append(lon, lon_i)\n    lat = np.append(lat, lat_i)\n    od_flag = np.append(od_flag, od_flag_i)"
      ]
    },
    {
      "cell_type": "markdown",
      "metadata": {},
      "source": [
        "## Visualisation\nShow the positions of galaxies in underdense regions.\n\n"
      ]
    },
    {
      "cell_type": "code",
      "execution_count": null,
      "metadata": {
        "collapsed": false
      },
      "outputs": [],
      "source": [
        "plt.subplot(111, projection='lambert')\nplt.title('galaxies in underdensities')\nplt.scatter(np.deg2rad(lon[~od_flag]), np.deg2rad(lat[~od_flag]), 8.0, 'r', alpha=0.5)\nplt.grid(True)\nplt.show()"
      ]
    }
  ],
  "metadata": {
    "kernelspec": {
      "display_name": "Python 3",
      "language": "python",
      "name": "python3"
    },
    "language_info": {
      "codemirror_mode": {
        "name": "ipython",
        "version": 3
      },
      "file_extension": ".py",
      "mimetype": "text/x-python",
      "name": "python",
      "nbconvert_exporter": "python",
      "pygments_lexer": "ipython3",
      "version": "3.8.14"
    }
  },
  "nbformat": 4,
  "nbformat_minor": 0
}