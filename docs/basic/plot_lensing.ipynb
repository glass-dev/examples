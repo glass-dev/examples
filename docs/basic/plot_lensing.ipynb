{
  "cells": [
    {
      "cell_type": "code",
      "execution_count": null,
      "metadata": {
        "collapsed": false
      },
      "outputs": [],
      "source": [
        "%matplotlib inline"
      ]
    },
    {
      "cell_type": "markdown",
      "metadata": {},
      "source": [
        "\n# Weak lensing\n\nThis example computes weak lensing maps (convergence and shear) for a redshift\ndistribution of sources.  The lensing is simulated by a line of sight\nintegration of the matter fields.\n"
      ]
    },
    {
      "cell_type": "markdown",
      "metadata": {},
      "source": [
        "## Setup\n\nSimulate the matter fields, and compute the lensing fields from them.\n\nTo obtain the effective integrated lensing maps of a distribution of sources,\nthe :func:`glass.lensing.lensing_dist` generator will iteratively collect and\nintegrate the contributions from each shell.\n\nWe need the cosmology object (``cosmo``) for the lensing interpolation, so we\nuse CAMB to get it back (even though we load the precomputed shell definitions\nfrom the :doc:`/basic/shells` example).  We also use CAMB below to compute the\ntheory lensing spectra.\n\n"
      ]
    },
    {
      "cell_type": "code",
      "execution_count": null,
      "metadata": {
        "collapsed": false
      },
      "outputs": [],
      "source": [
        "import os.path\nimport numpy as np\nimport healpy as hp\nimport matplotlib.pyplot as plt\n\n# these are the GLASS imports: cosmology and everything in the glass namespace\nfrom cosmology import Cosmology\nimport glass.all\nimport glass\n\n# also needs camb itself to get the parameter object, and the expectation\nimport camb\n\n\n# cosmology for the simulation\nh = 0.7\nOc = 0.25\nOb = 0.05\n\n# basic parameters of the simulation\nnside = 512\nlmax = nside\n\n# localised redshift distribution\nz = np.linspace(0, 1, 101)\nnz = np.exp(-(z - 0.5)**2/(0.1)**2)\n\n# set up CAMB parameters for matter angular power spectrum\npars = camb.set_params(H0=100*h, omch2=Oc*h**2, ombh2=Ob*h**2,\n                       NonLinear=camb.model.NonLinear_both)\n\n# use CAMB cosmology in GLASS\ncosmo = Cosmology.from_camb(pars)\n\n# load precomputed shell definition\nshells, mweights, cls, lweights = glass.user.load_shells('shells.npz')\n\n# generators for a lensing-only simulation with three correlated matter shells\ngenerators = [\n    glass.matter.gen_lognormal_matter(cls, nside, ncorr=3),\n    glass.lensing.gen_convergence(lweights),\n    glass.lensing.gen_shear(),\n    glass.lensing.gen_lensing_dist(z, nz, cosmo),\n]\n\n# variables we will use for plotting\nyields = [\n    glass.lensing.KAPPA_BAR,\n    glass.lensing.GAMMA_BAR,\n]"
      ]
    },
    {
      "cell_type": "markdown",
      "metadata": {},
      "source": [
        "## Simulation\nThe simulation is then straightforward:  Only the integrated lensing maps are\nstored here.  While the simulation returns the result after every redshift\ninterval in the light cone, only the last result will be show below, so the\nprevious values are not kept.\n\n"
      ]
    },
    {
      "cell_type": "code",
      "execution_count": null,
      "metadata": {
        "collapsed": false
      },
      "outputs": [],
      "source": [
        "# simulate and store the integrated lensing maps\n# note that we merely keep kappa, gamma1, gamma2 for after the loop\nfor kappa, (gamma1, gamma2) in glass.core.generate(generators, yields):\n    pass"
      ]
    },
    {
      "cell_type": "markdown",
      "metadata": {},
      "source": [
        "## Analysis\nTo make sure the simulation works, compute the angular power spectrum of the\nsimulated convergence field, and compare with the expectation (from CAMB) for\nthe given redshift distribution of sources.\n\nWe are not doing the modelling very carefully here, so a bit of discrepancy is\nto be expected.\n\n"
      ]
    },
    {
      "cell_type": "code",
      "execution_count": null,
      "metadata": {
        "collapsed": false
      },
      "outputs": [],
      "source": [
        "# get the angular power spectra of the lensing maps\nsim_cls = hp.anafast([kappa, gamma1, gamma2], pol=True, lmax=lmax, use_pixel_weights=True)\n\n# get the expected cls from CAMB\npars.min_l = 1\npars.set_for_lmax(lmax)\npars.SourceWindows = [camb.sources.SplinedSourceWindow(z=z, W=nz, source_type='lensing')]\ntheory_cls = camb.get_results(pars).get_source_cls_dict(lmax=lmax, raw_cl=True)\n\n# plot the realised and expected cls\nl = np.arange(lmax+1)\nplt.plot(l, (2*l+1)*sim_cls[0], '-k', lw=2, label='simulation')\nplt.plot(l, (2*l+1)*theory_cls['W1xW1'], '-r', lw=2, label='expectation')\nplt.xscale('symlog', linthresh=10, linscale=0.5, subs=[2, 3, 4, 5, 6, 7, 8, 9])\nplt.yscale('symlog', linthresh=1e-7, linscale=0.5, subs=[2, 3, 4, 5, 6, 7, 8, 9])\nplt.xlabel(r'angular mode number $l$')\nplt.ylabel(r'angular power spectrum $(2l+1) \\, C_l^{\\kappa\\kappa}$')\nplt.legend()\nplt.show()"
      ]
    }
  ],
  "metadata": {
    "kernelspec": {
      "display_name": "Python 3",
      "language": "python",
      "name": "python3"
    },
    "language_info": {
      "codemirror_mode": {
        "name": "ipython",
        "version": 3
      },
      "file_extension": ".py",
      "mimetype": "text/x-python",
      "name": "python",
      "nbconvert_exporter": "python",
      "pygments_lexer": "ipython3",
      "version": "3.8.14"
    }
  },
  "nbformat": 4,
  "nbformat_minor": 0
}