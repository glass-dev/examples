{
  "cells": [
    {
      "cell_type": "code",
      "execution_count": null,
      "metadata": {
        "collapsed": false
      },
      "outputs": [],
      "source": [
        "%matplotlib inline"
      ]
    },
    {
      "cell_type": "markdown",
      "metadata": {},
      "source": [
        "\n# Defining the simulation\n\nThis example demonstrates how matter shell definitions can be computed, saved,\nand loaded.\n\nThe computational part is common to all simulations.  The saving and loading is\nuseful to accelerate repeated computations which use the same input parameters,\nbecause the angular matter power spectrum for a fixed cosmology and matter\nweight function can be saved and then loaded again.  This prevents re-running a\ncostly computation many times over when different models are being compared\nfurther down the simulation pipeline.\n\nUnder the hood, the saving and loading is done very plainly using\n:func:`numpy.savez` and :func:`numpy.load` for the given arrays.\n"
      ]
    },
    {
      "cell_type": "markdown",
      "metadata": {},
      "source": [
        "## Compute\nHere we define the shells for these examples, and use CAMB to compute the\nangular matter power spectra for the shell definitions.  We also compute a\nset of lensing weights, which need the cosmology object (``cosmo``).\n\nAfterwards, we can save the shell definition.  Most examples (and real\nsimulations) can then be run from the saved definitions without needing to\nknow about the cosmology again.\n\n"
      ]
    },
    {
      "cell_type": "code",
      "execution_count": null,
      "metadata": {
        "collapsed": false
      },
      "outputs": [],
      "source": [
        "import os.path\nimport camb\nfrom cosmology import Cosmology\nimport glass.matter\nimport glass.camb\nimport glass.lensing\nimport glass.user\n\n\n# cosmology for the simulation\nh = 0.7\nOc = 0.25\nOb = 0.05\n\n# basic parameters of the simulation\nlmax = 1000\n\n# set up CAMB parameters for matter angular power spectrum\npars = camb.set_params(H0=100*h, omch2=Oc*h**2, ombh2=Ob*h**2,\n                       NonLinear=camb.model.NonLinear_both)\n\n# get the cosmology from CAMB\ncosmo = Cosmology.from_camb(pars)\n\n# shells in redshift spacing\nshells = glass.matter.redshift_shells(0., 1., dz=0.1)\n\n# redshift weight function for matter\n# CAMB requires linear ramp for low redshifts\nmweights = glass.matter.redshift_weights(shells, zlin=0.1)\n\n# compute angular matter power spectra with CAMB\ncls = glass.camb.matter_cls(pars, lmax, mweights)\n\n# compute lensing weights\nlweights = glass.lensing.midpoint_weights(shells, mweights, cosmo)"
      ]
    },
    {
      "cell_type": "markdown",
      "metadata": {},
      "source": [
        "## Saving\nWe can save shell definitions to file.  The full set of saved entries are the\nshells (``shells``), matter weights (``mweights``), angular matter power\nspectra (``cls``), and lensing weights (``lweights``).\n\nInternally, the function uses numpy's ``savez``, so the output file will be\ngiven an ``.npz`` extension if it does not already have one.\n\n"
      ]
    },
    {
      "cell_type": "code",
      "execution_count": null,
      "metadata": {
        "collapsed": false
      },
      "outputs": [],
      "source": [
        "# save the matter shell definition to file\n# not all arguments need to be given\nglass.user.save_shells('shells.npz', shells, mweights, cls, lweights)"
      ]
    },
    {
      "cell_type": "markdown",
      "metadata": {},
      "source": [
        "## Loading\nLoading the shell definitions works in the same way.  Because not all entries\nhave to be saved, some of the return values can be ``None``.  The number and\norder of returned values is of course always the same.\n\n"
      ]
    },
    {
      "cell_type": "code",
      "execution_count": null,
      "metadata": {
        "collapsed": false
      },
      "outputs": [],
      "source": [
        "# load previously saved shell definitions (normally in another file)\nshells, mweights, cls, lweights = glass.user.load_shells('shells.npz')"
      ]
    }
  ],
  "metadata": {
    "kernelspec": {
      "display_name": "Python 3",
      "language": "python",
      "name": "python3"
    },
    "language_info": {
      "codemirror_mode": {
        "name": "ipython",
        "version": 3
      },
      "file_extension": ".py",
      "mimetype": "text/x-python",
      "name": "python",
      "nbconvert_exporter": "python",
      "pygments_lexer": "ipython3",
      "version": "3.8.14"
    }
  },
  "nbformat": 4,
  "nbformat_minor": 0
}