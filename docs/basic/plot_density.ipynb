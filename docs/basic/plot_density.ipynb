{
  "cells": [
    {
      "cell_type": "code",
      "execution_count": null,
      "metadata": {
        "collapsed": false
      },
      "outputs": [],
      "source": [
        "%matplotlib inline"
      ]
    },
    {
      "cell_type": "markdown",
      "metadata": {},
      "source": [
        "\n# Galaxy distribution\n\nThis example simulates a matter-only light cone up to redshift 1 and samples\ngalaxies from a uniform distribution in redshift.  The results are shown in a\npseudo-3D plot.  This helps to make sure the galaxies sampling across shells\nworks as intended.\n"
      ]
    },
    {
      "cell_type": "markdown",
      "metadata": {},
      "source": [
        "## Setup\nSet up a galaxy positions-only GLASS simulation.  It needs very little input:\nmatter shell definition, a constant density distribution, and generators for\nuniform sampling of positions and redshifts.\n\n"
      ]
    },
    {
      "cell_type": "code",
      "execution_count": null,
      "metadata": {
        "collapsed": false
      },
      "outputs": [],
      "source": [
        "import numpy as np\nimport matplotlib.pyplot as plt\nfrom matplotlib.colors import LogNorm\n\n# these are the GLASS imports: everything in the glass namespace\nimport glass.all\nimport glass\n\n\n# create a basic setup of shells in redshift\nshells = glass.matter.redshift_shells(0., 1., dz=0.1)\n\n# total galaxy number density per unit redshift interval and arcmin2\ndndz_arcmin2 = 0.01\n\n# number density in each matter shell\nngal = glass.galaxies.constant_densities(dndz_arcmin2, shells)\n\n# generators for a galaxies-only simulation with one correlated shell\ngenerators = [\n    glass.galaxies.gen_uniform_positions(ngal),\n    glass.galaxies.gen_uniform_redshifts(shells),\n]\n\n# the values we want to get out of the simulation\nyields = [\n    glass.galaxies.GAL_Z,\n    glass.galaxies.GAL_LON,\n    glass.galaxies.GAL_LAT,\n]"
      ]
    },
    {
      "cell_type": "markdown",
      "metadata": {},
      "source": [
        "## Simulation\nThe goal of this example is to make a 3D cube of the sampled galaxy numbers.\nA redshift cube is initialised with zero counts, and the simulation is run.\nFor every shell in the light cone, the galaxies are counted in the cube.\n\n"
      ]
    },
    {
      "cell_type": "code",
      "execution_count": null,
      "metadata": {
        "collapsed": false
      },
      "outputs": [],
      "source": [
        "# make a cube for galaxy number in redshift\nzbin = np.linspace(-shells[-1], shells[-1], 21)\ncube = np.zeros((zbin.size-1,)*3)\n\n# simulate and add galaxies in each matter shell to cube\nfor gal_z, gal_lon, gal_lat in glass.core.generate(generators, yields):\n    z1 = gal_z*np.cos(np.deg2rad(gal_lon))*np.cos(np.deg2rad(gal_lat))\n    z2 = gal_z*np.sin(np.deg2rad(gal_lon))*np.cos(np.deg2rad(gal_lat))\n    z3 = gal_z*np.sin(np.deg2rad(gal_lat))\n    (i, j, k), c = np.unique(np.searchsorted(zbin[1:], [z1, z2, z3]), axis=1, return_counts=True)\n    cube[i, j, k] += c"
      ]
    },
    {
      "cell_type": "markdown",
      "metadata": {},
      "source": [
        "## Visualisation\nLastly, make a pseudo-3D plot by stacking a number of density slices on top of\neach other.\n\n"
      ]
    },
    {
      "cell_type": "code",
      "execution_count": null,
      "metadata": {
        "collapsed": false
      },
      "outputs": [],
      "source": [
        "# positions of grid cells of the cube\nz = (zbin[:-1] + zbin[1:])/2\nz1, z2, z3 = np.meshgrid(z, z, z)\n\n# plot the galaxy distribution in pseudo-3D\nfig = plt.figure()\nax = fig.add_subplot(111, projection='3d', proj_type='ortho')\nnorm = LogNorm(vmin=np.min(cube[cube>0]), vmax=np.max(cube), clip=True)\nfor i in range(len(zbin)-1):\n    v = norm(cube[..., i])\n    c = plt.cm.inferno(v)\n    c[..., -1] = 0.2*v\n    ax.plot_surface(z1[..., i], z2[..., i], z3[..., i], rstride=1, cstride=1,\n                    facecolors=c, linewidth=0, shade=False, antialiased=False)\nfig.tight_layout()\nplt.show()"
      ]
    }
  ],
  "metadata": {
    "kernelspec": {
      "display_name": "Python 3",
      "language": "python",
      "name": "python3"
    },
    "language_info": {
      "codemirror_mode": {
        "name": "ipython",
        "version": 3
      },
      "file_extension": ".py",
      "mimetype": "text/x-python",
      "name": "python",
      "nbconvert_exporter": "python",
      "pygments_lexer": "ipython3",
      "version": "3.8.14"
    }
  },
  "nbformat": 4,
  "nbformat_minor": 0
}