{
  "cells": [
    {
      "cell_type": "code",
      "execution_count": null,
      "metadata": {
        "collapsed": false
      },
      "outputs": [],
      "source": [
        "%matplotlib inline"
      ]
    },
    {
      "cell_type": "markdown",
      "metadata": {},
      "source": [
        "\n# Stage IV Galaxy Survey\n\nThis example simulates a galaxy catalogue from a Stage IV Space Satellite Galaxy\nSurvey such as *Euclid* and *Roman* combining the :doc:`/basic/plot_density` and\n:doc:`/basic/plot_lensing` examples with generators for the intrinsic galaxy\nellipticity and the resulting shear with some auxiliary functions.\n\nThe focus in this example is mock catalogue generation using auxiliary functions\nbuilt for simulating Stage IV galaxy surveys.\n"
      ]
    },
    {
      "cell_type": "markdown",
      "metadata": {},
      "source": [
        "## Setup\nThe basic setup of galaxies and weak lensing fields is the same as in the\nprevious examples.\n\nIn addition to a generator for intrinsic galaxy ellipticities,\nfollowing a normal distribution, we also show how to use auxiliary functions\nto generate tomographic redshift distributions and visibility masks.\n\nFinally, there is a generator that applies the reduced shear from the lensing\nmaps to the intrinsic ellipticities, producing the galaxy shears.\n\n"
      ]
    },
    {
      "cell_type": "code",
      "execution_count": null,
      "metadata": {
        "collapsed": false
      },
      "outputs": [],
      "source": [
        "import numpy as np\nimport healpy as hp\nimport matplotlib.pyplot as plt\n\n# these are the GLASS imports: cosmology and everything in the glass namespace\nfrom cosmology import Cosmology\nimport glass.all\nimport glass\n\n# also needs camb itself to get the parameter object\nimport camb\n\n\n# cosmology for the simulation\nh = 0.7\nOc = 0.25\nOb = 0.05\n\n# basic parameters of the simulation\nnside = 512\nlmax = nside\n\n# set up the random number generator\nrng = np.random.default_rng(seed=42)\n\n# set up CAMB parameters for matter angular power spectrum\npars = camb.set_params(H0=100*h, omch2=Oc*h**2, ombh2=Ob*h**2,\n                       NonLinear=camb.model.NonLinear_both)\n\n# use CAMB cosmology\ncosmo = Cosmology.from_camb(pars)\n\n# redshift grid that will be used for a number of continuous functions\nz = np.linspace(0, 3, 1000)"
      ]
    },
    {
      "cell_type": "markdown",
      "metadata": {},
      "source": [
        "Set up the matter sector.\n\n"
      ]
    },
    {
      "cell_type": "code",
      "execution_count": null,
      "metadata": {
        "collapsed": false
      },
      "outputs": [],
      "source": [
        "# use matter shells with 200 Mpc thickness in comoving distance\nshells = glass.matter.distance_shells(cosmo, 0., 3., dx=200.)\n\n# use a matter weight function that is uniform in redshift\nmweights = glass.matter.redshift_weights(shells, zlin=0.1)\n\n# compute the angular matter power spectra\ncls = glass.camb.matter_cls(pars, lmax, mweights)"
      ]
    },
    {
      "cell_type": "markdown",
      "metadata": {},
      "source": [
        "Set up the lensing sector.\n\n"
      ]
    },
    {
      "cell_type": "code",
      "execution_count": null,
      "metadata": {
        "collapsed": false
      },
      "outputs": [],
      "source": [
        "# compute the midpoint lensing weights\nlweights = glass.lensing.midpoint_weights(shells, mweights, cosmo)"
      ]
    },
    {
      "cell_type": "markdown",
      "metadata": {},
      "source": [
        "Set up the galaxies sector.\n\n"
      ]
    },
    {
      "cell_type": "code",
      "execution_count": null,
      "metadata": {
        "collapsed": false
      },
      "outputs": [],
      "source": [
        "# galaxy density (using 1/100 of the expected galaxy number density for Stage-IV)\nn_arcmin2 = 0.3\n\n# true redshift distribution following a Smail distribution\ndndz = glass.observations.smail_nz(z, z_mode=0.9, alpha=2., beta=1.5)\ndndz *= n_arcmin2\n\n# compute the galaxy number density in each shell\nngal = glass.galaxies.densities_from_dndz(z, dndz, shells)\n\n# compute bin edges with equal density\nnbins = 10\nzedges = glass.observations.equal_dens_zbins(z, dndz, nbins=nbins)\n\n# photometric redshift error\nsigma_z0 = 0.03\n\n# split distribution by tomographic bin, assuming photometric redshift errors\ntomo_nz = glass.observations.tomo_nz_gausserr(z, dndz, sigma_z0, zedges)\n\n# constant bias parameter for all shells\nb = 1.2\n\n# sigma_ellipticity as expected for a Stage-IV survey\nsigma_e = 0.27"
      ]
    },
    {
      "cell_type": "markdown",
      "metadata": {},
      "source": [
        "Plotting the overall redshift distribution and the\ndistribution for each of the equal density tomographic bins\n\n"
      ]
    },
    {
      "cell_type": "code",
      "execution_count": null,
      "metadata": {
        "collapsed": false
      },
      "outputs": [],
      "source": [
        "plt.figure()\nplt.title('redshift distributions')\nsum_nz = np.zeros_like(tomo_nz[0])\nfor nz in tomo_nz:\n    plt.fill_between(z, nz, alpha=0.5)\n    sum_nz = sum_nz + nz\nplt.fill_between(z, dndz, alpha=0.2, label='dn/dz')\nplt.plot(z, sum_nz, ls='--', label='sum of the bins')\nplt.ylabel('dN/dz - gal/arcmin2')\nplt.xlabel('z')\nplt.legend()\nplt.tight_layout()\nplt.show()"
      ]
    },
    {
      "cell_type": "markdown",
      "metadata": {},
      "source": [
        "Make a visibility map typical of a space telescope survey, seeing both\nhemispheres, and low visibility in the galactic and ecliptic bands.\n\n"
      ]
    },
    {
      "cell_type": "code",
      "execution_count": null,
      "metadata": {
        "collapsed": false
      },
      "outputs": [],
      "source": [
        "vis = glass.observations.vmap_galactic_ecliptic(nside)\n\n# checking the mask:\nhp.mollview(vis, title='Stage IV Space Survey-like Mask', unit='Visibility')\nplt.show()"
      ]
    },
    {
      "cell_type": "markdown",
      "metadata": {},
      "source": [
        "## Simulation\nSimulate the galaxies with shears.  In each iteration, get the quantities of\ninterest to build our mock catalogue.\n\n"
      ]
    },
    {
      "cell_type": "code",
      "execution_count": null,
      "metadata": {
        "collapsed": false
      },
      "outputs": [],
      "source": [
        "# generators for clustering and lensing\ngenerators = [\n    glass.matter.gen_lognormal_matter(cls, nside, ncorr=2, rng=rng),\n    glass.lensing.gen_convergence(lweights),\n    glass.lensing.gen_shear(),\n    glass.observations.gen_constant_visibility(vis),\n    glass.galaxies.gen_positions_from_matter(ngal, b, rng=rng),\n    glass.galaxies.gen_redshifts_from_nz(z, tomo_nz, shells, rng=rng),\n    glass.galaxies.gen_ellip_intnorm(sigma_e, rng=rng),\n    glass.galaxies.gen_shear_interp(cosmo),\n]\n\n# values we want from the simulation\nyields = [\n    glass.galaxies.GAL_LON,\n    glass.galaxies.GAL_LAT,\n    glass.galaxies.GAL_Z,\n    glass.galaxies.GAL_SHE,\n    glass.galaxies.GAL_POP,\n]\n\n# we will store the catalogue as a dictionary\ncatalogue = {'RA': np.array([]), 'DEC': np.array([]), 'TRUE_Z': np.array([]),\n             'G1': np.array([]), 'G2': np.array([]), 'TOMO_ID': np.array([])}\n\n# iterate and store the quantities of interest for our mock catalogue\nfor gal_lon, gal_lat, gal_z, gal_she, gal_pop in glass.core.generate(generators, yields):\n    # let's assume here that lon lat here are RA and DEC:\n    catalogue['RA'] = np.append(catalogue['RA'], gal_lon)\n    catalogue['DEC'] = np.append(catalogue['DEC'], gal_lat)\n    catalogue['TRUE_Z'] = np.append(catalogue['TRUE_Z'], gal_z)\n    catalogue['G1'] = np.append(catalogue['G1'], gal_she.real)\n    catalogue['G2'] = np.append(catalogue['G2'], gal_she.imag)\n    catalogue['TOMO_ID'] = np.append(catalogue['TOMO_ID'], gal_pop)\n\nprint(f'Total Number of galaxies sampled: {len(catalogue[\"TRUE_Z\"]):,}')"
      ]
    },
    {
      "cell_type": "markdown",
      "metadata": {},
      "source": [
        "## Catalogue checks\nHere we can perform some simple checks at the catalogue level to\nsee how our simulation performed.\n\n"
      ]
    },
    {
      "cell_type": "code",
      "execution_count": null,
      "metadata": {
        "collapsed": false
      },
      "outputs": [],
      "source": [
        "# redshift distribution of tomographic bins & input distributions\nplt.figure()\nplt.title('redshifts in catalogue')\nplt.ylabel('dN/dz - normalised')\nplt.xlabel('z')\nfor i in range(0, 10):\n    plt.hist(catalogue['TRUE_Z'][catalogue['TOMO_ID'] == i], histtype='stepfilled', edgecolor='none', alpha=0.5, bins=50, density=1, label=f'cat. bin {i}')\nfor i in range(0, 10):\n    plt.plot(z, (tomo_nz[i]/n_arcmin2)*nbins, alpha=0.5, label=f'inp. bin {i}')\nplt.plot(z, dndz/n_arcmin2*nbins, ls='--', c='k')\nplt.legend(ncol=2)\nplt.show()"
      ]
    }
  ],
  "metadata": {
    "kernelspec": {
      "display_name": "Python 3",
      "language": "python",
      "name": "python3"
    },
    "language_info": {
      "codemirror_mode": {
        "name": "ipython",
        "version": 3
      },
      "file_extension": ".py",
      "mimetype": "text/x-python",
      "name": "python",
      "nbconvert_exporter": "python",
      "pygments_lexer": "ipython3",
      "version": "3.8.14"
    }
  },
  "nbformat": 4,
  "nbformat_minor": 0
}